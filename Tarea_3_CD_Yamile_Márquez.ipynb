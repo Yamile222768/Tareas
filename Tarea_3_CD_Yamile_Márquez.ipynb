{
  "nbformat": 4,
  "nbformat_minor": 0,
  "metadata": {
    "colab": {
      "provenance": [],
      "authorship_tag": "ABX9TyOEfJ/ZvWN8KmyRDOn4Sn7Z",
      "include_colab_link": true
    },
    "kernelspec": {
      "name": "python3",
      "display_name": "Python 3"
    },
    "language_info": {
      "name": "python"
    }
  },
  "cells": [
    {
      "cell_type": "markdown",
      "metadata": {
        "id": "view-in-github",
        "colab_type": "text"
      },
      "source": [
        "<a href=\"https://colab.research.google.com/github/Yamile222768/Tareas/blob/main/Tarea_3_CD_Yamile_M%C3%A1rquez.ipynb\" target=\"_parent\"><img src=\"https://colab.research.google.com/assets/colab-badge.svg\" alt=\"Open In Colab\"/></a>"
      ]
    },
    {
      "cell_type": "markdown",
      "source": [
        "#**Tarea 03: Introducción a python**"
      ],
      "metadata": {
        "id": "kDuPpTEXgemV"
      }
    },
    {
      "cell_type": "markdown",
      "source": [
        "DOCUMENTACIÓN hacer comentarios para explicar el código"
      ],
      "metadata": {
        "id": "M5skb7gpSTa_"
      }
    },
    {
      "cell_type": "code",
      "source": [],
      "metadata": {
        "id": "zsZllk3zSos2"
      },
      "execution_count": null,
      "outputs": []
    },
    {
      "cell_type": "markdown",
      "source": [
        "*Se solicitan los valores*"
      ],
      "metadata": {
        "id": "5f1XOPiux1ub"
      }
    },
    {
      "cell_type": "code",
      "source": [
        "n = input(\"Dime la cantidad de numeros: \")\n",
        "n = int(n)\n",
        "print(f\"Usted entro el numero {n}\")"
      ],
      "metadata": {
        "colab": {
          "base_uri": "https://localhost:8080/"
        },
        "id": "hS0qbm6WglM-",
        "outputId": "27cd5f45-d081-49bd-87f8-a9f83be8b2f8"
      },
      "execution_count": null,
      "outputs": [
        {
          "output_type": "stream",
          "name": "stdout",
          "text": [
            "Dime la cantidad de numeros: 8\n",
            "Usted entro el numero 8\n"
          ]
        }
      ]
    },
    {
      "cell_type": "markdown",
      "source": [
        "*En esta seccion se realizan las operaciones para obtener los datos solicitados*"
      ],
      "metadata": {
        "id": "I_WIvQ2Rh9rX"
      }
    },
    {
      "cell_type": "code",
      "source": [
        "suma=0\n",
        "menor_global = float('inf')\n",
        "mayor_global = float('-inf')\n",
        "\n",
        "for i in range(n):\n",
        "    num=int(input(f\"Dime el numero (i+1):\"))\n",
        "    suma=suma+num\n",
        "    if num < menor_global:\n",
        "      menor_global = num\n",
        "    if num > mayor_global:\n",
        "      mayor_global = num\n",
        "prom=suma/num\n"
      ],
      "metadata": {
        "colab": {
          "base_uri": "https://localhost:8080/"
        },
        "id": "HIqd7WzUhSA8",
        "outputId": "62e0e568-1285-40bb-9a69-6792bd0bc3be"
      },
      "execution_count": null,
      "outputs": [
        {
          "name": "stdout",
          "output_type": "stream",
          "text": [
            "Dime el numero (i+1):2\n",
            "Dime el numero (i+1):-700\n",
            "Dime el numero (i+1):-1800\n",
            "Dime el numero (i+1):3\n",
            "Dime el numero (i+1):4\n",
            "Dime el numero (i+1):5\n",
            "Dime el numero (i+1):89\n",
            "Dime el numero (i+1):69\n"
          ]
        }
      ]
    },
    {
      "cell_type": "markdown",
      "source": [
        "*Se imprimen la suma, el promedio, el número menor, el número mayor*"
      ],
      "metadata": {
        "id": "Okj-IticiFpg"
      }
    },
    {
      "cell_type": "code",
      "source": [
        "print(f\"La suma de los numeros es: {suma}\")\n",
        "print(f\"El promedio es: {prom}\")\n",
        "print(f\"El menor número entrado es: {menor_global}\")\n",
        "print(f\"El mayor número entrado es: {mayor_global}\")"
      ],
      "metadata": {
        "colab": {
          "base_uri": "https://localhost:8080/"
        },
        "id": "_Jhy9og8hzCL",
        "outputId": "19d990a0-d6b7-457b-e611-5fe69c09e7fe"
      },
      "execution_count": null,
      "outputs": [
        {
          "output_type": "stream",
          "name": "stdout",
          "text": [
            "La suma de los numeros es: -2328\n",
            "El promedio es: -33.73913043478261\n",
            "El menor número entrado es: -1800\n",
            "El mayor número entrado es: 89\n"
          ]
        }
      ]
    }
  ]
}