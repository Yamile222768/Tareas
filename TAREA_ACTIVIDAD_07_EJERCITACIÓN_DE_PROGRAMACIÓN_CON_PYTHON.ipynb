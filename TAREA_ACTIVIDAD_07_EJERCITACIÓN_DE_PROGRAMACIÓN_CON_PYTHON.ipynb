{
  "nbformat": 4,
  "nbformat_minor": 0,
  "metadata": {
    "colab": {
      "provenance": [],
      "authorship_tag": "ABX9TyOCY1PozT/GkQ6FAqVpT7um",
      "include_colab_link": true
    },
    "kernelspec": {
      "name": "python3",
      "display_name": "Python 3"
    },
    "language_info": {
      "name": "python"
    }
  },
  "cells": [
    {
      "cell_type": "markdown",
      "metadata": {
        "id": "view-in-github",
        "colab_type": "text"
      },
      "source": [
        "<a href=\"https://colab.research.google.com/github/Yamile222768/Tareas/blob/main/TAREA_ACTIVIDAD_07_EJERCITACI%C3%93N_DE_PROGRAMACI%C3%93N_CON_PYTHON.ipynb\" target=\"_parent\"><img src=\"https://colab.research.google.com/assets/colab-badge.svg\" alt=\"Open In Colab\"/></a>"
      ]
    },
    {
      "cell_type": "markdown",
      "source": [
        "#**Tarea 07: Ejercitación de programación con python**\n",
        "Los archivos emisiones-2016.csu, emisiones-2017.csu, emisiones-2018.csu y emisiones-2019.csv, contienen datos sobre las emisiones contaminantes en Madrid, España, en los años 2016, 2017, 2018 y 2019 respectivamente. A partir de ellos, resuelva lo siguiente:\n"
      ],
      "metadata": {
        "id": "lGUy4LUTcO22"
      }
    },
    {
      "cell_type": "markdown",
      "source": [
        "***1. Generar un DataFrame con los datos de los cuatro archivos.***"
      ],
      "metadata": {
        "id": "i2IP7Y8NdcIO"
      }
    },
    {
      "cell_type": "code",
      "source": [
        "import pandas as pd\n",
        "\n",
        "# Cargar los archivos CSV\n",
        "emisiones_2016 = pd.read_csv('emisiones-2016.csv', delimiter=';')\n",
        "emisiones_2017 = pd.read_csv('emisiones-2017.csv', delimiter=';')\n",
        "emisiones_2018 = pd.read_csv('emisiones-2018.csv', delimiter=';')\n",
        "emisiones_2019 = pd.read_csv('emisiones-2019.csv', delimiter=';')\n",
        "\n",
        "# Verificar si se han cargado correctamente\n",
        "print(\"Datos 2016:\\n\\n\", emisiones_2016.head())\n",
        "print(\"\\nDatos 2017:\\n\\n\", emisiones_2017.head())\n",
        "print(\"\\nDatos 2018:\\n\\n\", emisiones_2018.head())\n",
        "print(\"\\nDatos 2019:\\n\\n\", emisiones_2019.head())\n",
        "\n",
        "# Concatenar los DataFrames en uno solo\n",
        "emisiones = pd.concat([emisiones_2016, emisiones_2017, emisiones_2018, emisiones_2019], ignore_index=True)\n",
        "\n",
        "# Verificar el resultado final\n",
        "print(\"\\nDatos combinados:\\n\\n\", emisiones.head())\n"
      ],
      "metadata": {
        "colab": {
          "base_uri": "https://localhost:8080/"
        },
        "id": "8w26tAeddiPd",
        "outputId": "c131b3d8-06e7-43b7-9330-89d74ba6141f"
      },
      "execution_count": 16,
      "outputs": [
        {
          "output_type": "stream",
          "name": "stdout",
          "text": [
            "Datos 2016:\n",
            "\n",
            "    PROVINCIA  MUNICIPIO  ESTACION  MAGNITUD PUNTO_MUESTREO   ANO  MES   D01  \\\n",
            "0         28         79         4         1  28079004_1_38  2016    1   8.0   \n",
            "1         28         79         4         1  28079004_1_38  2016    2  12.0   \n",
            "2         28         79         4         1  28079004_1_38  2016    3  11.0   \n",
            "3         28         79         4         1  28079004_1_38  2016    4   8.0   \n",
            "4         28         79         4         1  28079004_1_38  2016    5   7.0   \n",
            "\n",
            "  V01   D02  ...  D27  V27  D28  V28  D29  V29   D30  V30  D31  V31  \n",
            "0   V   7.0  ...  9.0    V  7.0    V  8.0    V   9.0    V  9.0    V  \n",
            "1   V  13.0  ...  7.0    V  8.0    V  9.0    V   0.0    N  0.0    N  \n",
            "2   V  10.0  ...  8.0    V  7.0    V  8.0    V  10.0    V  8.0    V  \n",
            "3   V   9.0  ...  9.0    V  8.0    V  8.0    V   8.0    V  0.0    N  \n",
            "4   V   8.0  ...  7.0    V  7.0    V  7.0    V   7.0    V  7.0    V  \n",
            "\n",
            "[5 rows x 69 columns]\n",
            "\n",
            "Datos 2017:\n",
            "\n",
            "    PROVINCIA  MUNICIPIO  ESTACION  MAGNITUD PUNTO_MUESTREO   ANO  MES  D01  \\\n",
            "0         28         79         4         1  28079004_1_38  2017    1  6.0   \n",
            "1         28         79         4         1  28079004_1_38  2017    2  8.0   \n",
            "2         28         79         4         1  28079004_1_38  2017    3  5.0   \n",
            "3         28         79         4         1  28079004_1_38  2017    4  4.0   \n",
            "4         28         79         4         1  28079004_1_38  2017    5  4.0   \n",
            "\n",
            "  V01  D02  ...  D27  V27  D28  V28  D29  V29  D30  V30  D31  V31  \n",
            "0   V  8.0  ...  5.0    V  4.0    V  4.0    V  5.0    V  7.0    V  \n",
            "1   V  4.0  ...  4.0    V  4.0    V  0.0    N  0.0    N  0.0    N  \n",
            "2   V  7.0  ...  4.0    V  5.0    V  7.0    V  7.0    V  5.0    V  \n",
            "3   V  4.0  ...  3.0    V  4.0    V  4.0    V  4.0    V  0.0    N  \n",
            "4   V  5.0  ...  5.0    V  5.0    V  4.0    V  4.0    V  5.0    V  \n",
            "\n",
            "[5 rows x 69 columns]\n",
            "\n",
            "Datos 2018:\n",
            "\n",
            "    PROVINCIA  MUNICIPIO  ESTACION  MAGNITUD PUNTO_MUESTREO   ANO  MES  D01  \\\n",
            "0         28         79         4         1  28079004_1_38  2018    1  1.0   \n",
            "1         28         79         4         1  28079004_1_38  2018    2  5.0   \n",
            "2         28         79         4         1  28079004_1_38  2018    3  1.0   \n",
            "3         28         79         4         1  28079004_1_38  2018    4  2.0   \n",
            "4         28         79         4         1  28079004_1_38  2018    5  2.0   \n",
            "\n",
            "  V01  D02  ...  D27  V27  D28  V28  D29  V29  D30  V30  D31  V31  \n",
            "0   V  1.0  ...  2.0    V  2.0    V  6.0    V  5.0    V  6.0    V  \n",
            "1   V  3.0  ...  3.0    V  2.0    V  0.0    N  0.0    N  0.0    N  \n",
            "2   V  2.0  ...  2.0    V  4.0    V  2.0    V  2.0    V  2.0    V  \n",
            "3   V  3.0  ...  1.0    V  2.0    V  2.0    V  2.0    V  0.0    N  \n",
            "4   V  2.0  ...  2.0    V  2.0    V  3.0    V  2.0    V  2.0    V  \n",
            "\n",
            "[5 rows x 69 columns]\n",
            "\n",
            "Datos 2019:\n",
            "\n",
            "    PROVINCIA  MUNICIPIO  ESTACION  MAGNITUD PUNTO_MUESTREO   ANO  MES   D01  \\\n",
            "0         28         79         4         1  28079004_1_38  2019    1  18.0   \n",
            "1         28         79         4         1  28079004_1_38  2019    2  13.0   \n",
            "2         28         79         4         1  28079004_1_38  2019    3  18.0   \n",
            "3         28         79         4         1  28079004_1_38  2019    4   3.0   \n",
            "4         28         79         4         1  28079004_1_38  2019    5   1.0   \n",
            "\n",
            "  V01   D02  ...   D27  V27   D28  V28   D29  V29   D30  V30   D31  V31  \n",
            "0   V  20.0  ...  15.0    V  15.0    V  15.0    V  14.0    V  14.0    V  \n",
            "1   V  13.0  ...  19.0    V  20.0    V   0.0    N   0.0    N   0.0    N  \n",
            "2   V  18.0  ...   6.0    V   7.0    V   6.0    V   4.0    V   4.0    V  \n",
            "3   V   4.0  ...   3.0    V   2.0    V   2.0    V   2.0    V   0.0    N  \n",
            "4   V   1.0  ...   2.0    V   1.0    V   1.0    V   1.0    V   2.0    V  \n",
            "\n",
            "[5 rows x 69 columns]\n",
            "\n",
            "Datos combinados:\n",
            "\n",
            "    PROVINCIA  MUNICIPIO  ESTACION  MAGNITUD PUNTO_MUESTREO   ANO  MES   D01  \\\n",
            "0         28         79         4         1  28079004_1_38  2016    1   8.0   \n",
            "1         28         79         4         1  28079004_1_38  2016    2  12.0   \n",
            "2         28         79         4         1  28079004_1_38  2016    3  11.0   \n",
            "3         28         79         4         1  28079004_1_38  2016    4   8.0   \n",
            "4         28         79         4         1  28079004_1_38  2016    5   7.0   \n",
            "\n",
            "  V01   D02  ...  D27  V27  D28  V28  D29  V29   D30  V30  D31  V31  \n",
            "0   V   7.0  ...  9.0    V  7.0    V  8.0    V   9.0    V  9.0    V  \n",
            "1   V  13.0  ...  7.0    V  8.0    V  9.0    V   0.0    N  0.0    N  \n",
            "2   V  10.0  ...  8.0    V  7.0    V  8.0    V  10.0    V  8.0    V  \n",
            "3   V   9.0  ...  9.0    V  8.0    V  8.0    V   8.0    V  0.0    N  \n",
            "4   V   8.0  ...  7.0    V  7.0    V  7.0    V   7.0    V  7.0    V  \n",
            "\n",
            "[5 rows x 69 columns]\n"
          ]
        }
      ]
    },
    {
      "cell_type": "markdown",
      "source": [
        "***2. Filtrar las columnas del DataFrame para quedarse con las columnas ESTACION, MAGNITUD, ANO, MES y las correspondientes a los días D01, D02, etc.***\n"
      ],
      "metadata": {
        "id": "iiiAx2Gydi93"
      }
    },
    {
      "cell_type": "code",
      "source": [
        "# Imprimir los nombres de las columnas del DataFrame para verificar\n",
        "print(emisiones.columns)\n",
        "\n",
        "# Filtrar las columnas necesarias\n",
        "columnas_seleccionadas = ['ESTACION', 'MAGNITUD', 'ANO', 'MES'] + [f'D{i:02}' for i in range(1, 32)]\n",
        "\n",
        "# Filtrar el DataFrame con las columnas seleccionadas\n",
        "emisiones_filtradas = emisiones[columnas_seleccionadas]\n",
        "# Verificar el resultado\n",
        "print(\"\\n\\nDespués de filtrar las columnas\\n\\n\",emisiones_filtradas.head())\n"
      ],
      "metadata": {
        "colab": {
          "base_uri": "https://localhost:8080/"
        },
        "id": "sOJv1s7qdmnP",
        "outputId": "cbd497fc-272e-4821-feac-2bf1124316a1"
      },
      "execution_count": 2,
      "outputs": [
        {
          "output_type": "stream",
          "name": "stdout",
          "text": [
            "Index(['PROVINCIA', 'MUNICIPIO', 'ESTACION', 'MAGNITUD', 'PUNTO_MUESTREO',\n",
            "       'ANO', 'MES', 'D01', 'V01', 'D02', 'V02', 'D03', 'V03', 'D04', 'V04',\n",
            "       'D05', 'V05', 'D06', 'V06', 'D07', 'V07', 'D08', 'V08', 'D09', 'V09',\n",
            "       'D10', 'V10', 'D11', 'V11', 'D12', 'V12', 'D13', 'V13', 'D14', 'V14',\n",
            "       'D15', 'V15', 'D16', 'V16', 'D17', 'V17', 'D18', 'V18', 'D19', 'V19',\n",
            "       'D20', 'V20', 'D21', 'V21', 'D22', 'V22', 'D23', 'V23', 'D24', 'V24',\n",
            "       'D25', 'V25', 'D26', 'V26', 'D27', 'V27', 'D28', 'V28', 'D29', 'V29',\n",
            "       'D30', 'V30', 'D31', 'V31'],\n",
            "      dtype='object')\n",
            "\n",
            "\n",
            "Después de filtrar las columnas\n",
            "\n",
            "    ESTACION  MAGNITUD   ANO  MES   D01   D02  D03  D04   D05  D06  ...   D22  \\\n",
            "0         4         1  2016    1   8.0   7.0  6.0  6.0   7.0  6.0  ...  10.0   \n",
            "1         4         1  2016    2  12.0  13.0  9.0  9.0  11.0  9.0  ...  11.0   \n",
            "2         4         1  2016    3  11.0  10.0  9.0  9.0   7.0  8.0  ...   8.0   \n",
            "3         4         1  2016    4   8.0   9.0  9.0  8.0   8.0  9.0  ...   8.0   \n",
            "4         4         1  2016    5   7.0   8.0  9.0  9.0   8.0  8.0  ...   7.0   \n",
            "\n",
            "    D23   D24   D25   D26  D27  D28  D29   D30  D31  \n",
            "0  11.0  11.0  13.0  12.0  9.0  7.0  8.0   9.0  9.0  \n",
            "1  10.0   9.0   8.0   7.0  7.0  8.0  9.0   0.0  0.0  \n",
            "2   8.0   9.0   9.0   9.0  8.0  7.0  8.0  10.0  8.0  \n",
            "3   8.0   8.0   8.0   9.0  9.0  8.0  8.0   8.0  0.0  \n",
            "4   7.0   8.0   7.0   7.0  7.0  7.0  7.0   7.0  7.0  \n",
            "\n",
            "[5 rows x 35 columns]\n"
          ]
        }
      ]
    },
    {
      "cell_type": "markdown",
      "source": [
        "***3. Reestructurar el DataFrame para que los valores de los contaminantes de las columnas de los\n",
        "días aparezcan en una única columna***\n"
      ],
      "metadata": {
        "id": "JYkdp_DpdouV"
      }
    },
    {
      "cell_type": "code",
      "source": [
        "# Reestructurar el DataFrame usando melt\n",
        "emisiones_reestructurado = pd.melt(emisiones_filtradas,\n",
        "                                   id_vars=['ESTACION', 'MAGNITUD', 'ANO', 'MES'], #Estas son las columnas que se mantendrán tal cual.\n",
        "                                   value_vars=[f'D{i:02}' for i in range(1, 32)], #Son las columnas correspondientes a los días (D01, D02, etc.) que se transformarán en una única columna.\n",
        "                                   var_name='DIA', #Esta es la nueva columna que indicará el día (D01, D02, etc.).\n",
        "                                   value_name='VALOR_CONTAMINANTE') #Esta es la nueva columna que contendrá los valores de los contaminantes.\n",
        "\n",
        "# Verificar el resultado\n",
        "print(emisiones_reestructurado.head())\n"
      ],
      "metadata": {
        "colab": {
          "base_uri": "https://localhost:8080/"
        },
        "id": "vV9exLI5drTN",
        "outputId": "507d3ffd-df68-486f-b8e9-adf13a63817a"
      },
      "execution_count": 3,
      "outputs": [
        {
          "output_type": "stream",
          "name": "stdout",
          "text": [
            "   ESTACION  MAGNITUD   ANO  MES  DIA  VALOR_CONTAMINANTE\n",
            "0         4         1  2016    1  D01                 8.0\n",
            "1         4         1  2016    2  D01                12.0\n",
            "2         4         1  2016    3  D01                11.0\n",
            "3         4         1  2016    4  D01                 8.0\n",
            "4         4         1  2016    5  D01                 7.0\n"
          ]
        }
      ]
    },
    {
      "cell_type": "markdown",
      "source": [
        "4. Añadir una columna con la fecha a partir de la concatenación del año, el mes y el día (usar el módulo datetime).\n"
      ],
      "metadata": {
        "id": "h2isgxbhdr2K"
      }
    },
    {
      "cell_type": "code",
      "source": [
        "from datetime import datetime\n",
        "\n",
        "# Extraer el número del día eliminando la letra 'D' de la columna 'DIA'\n",
        "emisiones_reestructurado['DIA_NUM'] = emisiones_reestructurado['DIA'].str.extract('(\\d+)').astype(int)\n",
        "\n",
        "# Crear una columna 'FECHA' combinando el año, el mes y el día, manejando errores\n",
        "def create_date(row):\n",
        "    try:\n",
        "        return datetime(row['ANO'], row['MES'], row['DIA_NUM']) #Intenta crear un objeto datetime con los valores de año, mes y día.\n",
        "    except ValueError:\n",
        "        return None  # O puedes manejar el error de otra manera, como registrarlo\n",
        "\n",
        "emisiones_reestructurado['FECHA'] = emisiones_reestructurado.apply(create_date, axis=1) #Aplica la función create_date a cada fila del DataFrame. axis=1 indica que la función se aplica a lo largo de las filas.\n",
        "\n",
        "# Verificar el resultado\n",
        "print (emisiones_reestructurado.head())\n",
        "emisiones_reestructurado.shape"
      ],
      "metadata": {
        "colab": {
          "base_uri": "https://localhost:8080/"
        },
        "id": "bER9aqk3duXg",
        "outputId": "4bab5efe-75ea-4848-cc6a-c96e8cd01dc5"
      },
      "execution_count": 4,
      "outputs": [
        {
          "output_type": "stream",
          "name": "stdout",
          "text": [
            "   ESTACION  MAGNITUD   ANO  MES  DIA  VALOR_CONTAMINANTE  DIA_NUM      FECHA\n",
            "0         4         1  2016    1  D01                 8.0        1 2016-01-01\n",
            "1         4         1  2016    2  D01                12.0        1 2016-02-01\n",
            "2         4         1  2016    3  D01                11.0        1 2016-03-01\n",
            "3         4         1  2016    4  D01                 8.0        1 2016-04-01\n",
            "4         4         1  2016    5  D01                 7.0        1 2016-05-01\n"
          ]
        },
        {
          "output_type": "execute_result",
          "data": {
            "text/plain": [
              "(225246, 8)"
            ]
          },
          "metadata": {},
          "execution_count": 4
        }
      ]
    },
    {
      "cell_type": "markdown",
      "source": [
        "***5. Eliminar las filas con fechas no válidas (utilizar la función isnat del módulo numpy) y ordenar el DataFrame por estaciones contaminantes y fecha.***\n"
      ],
      "metadata": {
        "id": "0FfnEYrqdu4C"
      }
    },
    {
      "cell_type": "code",
      "source": [
        "import numpy as np\n",
        "\n",
        "# Eliminar las filas con fechas no válidas usando pd.isna\n",
        "emisiones_reestructurado = emisiones_reestructurado[~pd.isna(emisiones_reestructurado['FECHA'])]\n",
        "\n",
        "# Ordenar el DataFrame por 'ESTACION' y 'FECHA'\n",
        "emisiones_reestructurado = emisiones_reestructurado.sort_values(by=['ESTACION', 'FECHA'])\n",
        "\n",
        "# Verificar el resultado\n",
        "print(emisiones_reestructurado.head())\n",
        "emisiones_reestructurado.shape"
      ],
      "metadata": {
        "colab": {
          "base_uri": "https://localhost:8080/"
        },
        "id": "yZ9Nb_FXdzKA",
        "outputId": "f649c5ae-61e3-4dc5-8d7a-2754584e986c"
      },
      "execution_count": 5,
      "outputs": [
        {
          "output_type": "stream",
          "name": "stdout",
          "text": [
            "    ESTACION  MAGNITUD   ANO  MES  DIA  VALOR_CONTAMINANTE  DIA_NUM      FECHA\n",
            "0          4         1  2016    1  D01                 8.0        1 2016-01-01\n",
            "12         4         6  2016    1  D01                 0.4        1 2016-01-01\n",
            "24         4         7  2016    1  D01                28.0        1 2016-01-01\n",
            "36         4         8  2016    1  D01                40.0        1 2016-01-01\n",
            "48         4        12  2016    1  D01                83.0        1 2016-01-01\n"
          ]
        },
        {
          "output_type": "execute_result",
          "data": {
            "text/plain": [
              "(221158, 8)"
            ]
          },
          "metadata": {},
          "execution_count": 5
        }
      ]
    },
    {
      "cell_type": "markdown",
      "source": [
        "***6. Mostrar por pantalla las estaciones y los contaminantes disponibles en el DataFrame.***\n"
      ],
      "metadata": {
        "id": "4UArrUR6d0NS"
      }
    },
    {
      "cell_type": "code",
      "source": [
        "# Mostrar las estaciones disponibles en el DataFrame\n",
        "estaciones_disponibles = emisiones_reestructurado['ESTACION'].unique() #valores únicos de la columna ESTACION.\n",
        "print(\"Estaciones disponibles:\", estaciones_disponibles)\n",
        "\n",
        "# Mostrar los contaminantes disponibles en el DataFrame\n",
        "contaminantes_disponibles = emisiones_reestructurado['MAGNITUD'].unique() #valores únicos de la columna MAGNITUD.\n",
        "print(\"\\nContaminantes disponibles:\", contaminantes_disponibles)"
      ],
      "metadata": {
        "colab": {
          "base_uri": "https://localhost:8080/"
        },
        "id": "xrmvgaymd2kl",
        "outputId": "00295b0d-46ed-4db0-894f-1faeef7548f2"
      },
      "execution_count": 7,
      "outputs": [
        {
          "output_type": "stream",
          "name": "stdout",
          "text": [
            "Estaciones disponibles: [ 4  8 11 16 17 18 24 27 35 36 38 39 40 47 48 49 50 54 55 56 57 58 59 60]\n",
            "\n",
            "Contaminantes disponibles: [ 1  6  7  8 12  9 10 14 20 30 35 42 43 44]\n"
          ]
        }
      ]
    },
    {
      "cell_type": "markdown",
      "source": [
        "***7. Crear una función que reciba una estación, un contaminante y un rango de fechas y devuelva una serie con las emisiones del contaminante dado en la estación y rango de fechas dado.***\n"
      ],
      "metadata": {
        "id": "UmgbX351d2-3"
      }
    },
    {
      "cell_type": "code",
      "source": [
        "# Solicitar entrada del usuario\n",
        "estacion = input(\"Introduce el nombre de la estación: \")\n",
        "contaminante = input(\"Introduce el tipo de contaminante: \")\n",
        "fecha_inicio = input(\"Introduce la fecha de inicio (YYYY-MM-DD): \")\n",
        "fecha_fin = input(\"Introduce la fecha de fin (YYYY-MM-DD): \")\n",
        "\n",
        "#Función\n",
        "def obtener_emisiones(estacion, contaminante, fecha_inicio, fecha_fin):\n",
        "\n",
        "    # Asegurarse de que las fechas están en formato datetime\n",
        "    fecha_inicio = pd.to_datetime(fecha_inicio)\n",
        "    fecha_fin = pd.to_datetime(fecha_fin)\n",
        "\n",
        "    # Filtrar el DataFrame por estación, contaminante y rango de fechas\n",
        "    emisiones_filtradas = emisiones_reestructurado[\n",
        "        (emisiones_reestructurado['ESTACION'] == estacion) &\n",
        "        (emisiones_reestructurado['MAGNITUD'] == contaminante) &\n",
        "        (emisiones_reestructurado['FECHA'] >= fecha_inicio) &\n",
        "        (emisiones_reestructurado['FECHA'] <= fecha_fin)\n",
        "    ]\n",
        "\n",
        "    # Obtener la serie de emisiones\n",
        "    emisiones_serie = emisiones_filtradas.set_index('FECHA')['VALOR_CONTAMINANTE']\n",
        "    return emisiones_serie\n",
        "\n",
        "# Llamar a la función y mostrar el resultado\n",
        "emisiones_dat = obtener_emisiones(estacion, contaminante, fecha_inicio, fecha_fin)\n",
        "print(emisiones_dat)\n"
      ],
      "metadata": {
        "colab": {
          "base_uri": "https://localhost:8080/"
        },
        "id": "_u2007ezd5U0",
        "outputId": "ffd97353-5de5-4a65-d217-0140bfbce312"
      },
      "execution_count": 51,
      "outputs": [
        {
          "output_type": "stream",
          "name": "stdout",
          "text": [
            "Introduce el nombre de la estación: 4\n",
            "Introduce el tipo de contaminante: 1\n",
            "Introduce la fecha de inicio (YYYY-MM-DD): 2019-03-01\n",
            "Introduce la fecha de fin (YYYY-MM-DD): 2018-04-05\n",
            "Series([], Name: VALOR_CONTAMINANTE, dtype: float64)\n"
          ]
        }
      ]
    },
    {
      "cell_type": "markdown",
      "source": [
        "***8. Mostrar un resumen descriptivo (mínimo, máximo, media, etc.) para cada contaminante.***\n"
      ],
      "metadata": {
        "id": "pMbMban9d58C"
      }
    },
    {
      "cell_type": "code",
      "source": [
        "# Agrupar por contaminante y calcular estadísticas descriptivas\n",
        "resumen_contaminantes = emisiones_reestructurado.groupby('MAGNITUD')['VALOR_CONTAMINANTE'].describe()\n",
        "\n",
        "# Mostrar el resumen\n",
        "print(resumen_contaminantes)\n"
      ],
      "metadata": {
        "colab": {
          "base_uri": "https://localhost:8080/"
        },
        "id": "FHoZk4g_d7fN",
        "outputId": "be5b6565-d75f-4480-bfa7-b735cf648292"
      },
      "execution_count": 6,
      "outputs": [
        {
          "output_type": "stream",
          "name": "stdout",
          "text": [
            "            count       mean         std   min    25%    50%    75%       max\n",
            "MAGNITUD                                                                     \n",
            "1         14610.0   7.428953    7.012504  0.00   4.00   7.00  10.00    610.00\n",
            "6         14610.0   0.350233    0.215935  0.00   0.20   0.30   0.40     14.90\n",
            "7         35064.0  20.446412  135.123509  0.00   4.00   9.00  23.00  24742.00\n",
            "8         35064.0  37.677618   20.118050  0.00  22.00  35.00  50.00    148.00\n",
            "9          8948.0  10.087729   10.643591  0.00   6.00   9.00  13.00    850.00\n",
            "10        17897.0  18.772923   35.723619  0.00  10.00  16.00  24.00   4481.00\n",
            "12        35064.0  67.959417   61.443940  0.00  29.00  48.00  84.00   1005.00\n",
            "14        20454.0  49.941772   24.753120  0.00  31.00  52.00  69.00    336.00\n",
            "20         8766.0   2.364944    4.236706  0.00   0.80   1.60   2.80    195.00\n",
            "30         8766.0   0.531371    0.538180  0.00   0.20   0.40   0.70     15.10\n",
            "35         8766.0   0.479751    1.183618  0.00   0.10   0.20   0.50     35.70\n",
            "42         4383.0   1.400897    0.251836 -0.01   1.25   1.38   1.54      3.09\n",
            "43         4383.0   1.292923    0.230898 -0.14   1.17   1.28   1.43      2.77\n",
            "44         4383.0   0.108941    0.068776  0.00   0.06   0.10   0.14      1.31\n"
          ]
        }
      ]
    },
    {
      "cell_type": "markdown",
      "source": [
        "***9. Mostrar un resumen descriptivo para cada contaminante por distritos.***\n"
      ],
      "metadata": {
        "id": "3CIsJaZ0d79z"
      }
    },
    {
      "cell_type": "code",
      "source": [
        "#Verifico en que dataframe estan los distritos\n",
        "print(emisiones.columns)\n",
        "print (emisiones_reestructurado.columns)"
      ],
      "metadata": {
        "colab": {
          "base_uri": "https://localhost:8080/"
        },
        "id": "Dcfj-eB8d91a",
        "outputId": "8d454e0c-7519-4bdb-bddc-008cd170a4a9"
      },
      "execution_count": 7,
      "outputs": [
        {
          "output_type": "stream",
          "name": "stdout",
          "text": [
            "Index(['PROVINCIA', 'MUNICIPIO', 'ESTACION', 'MAGNITUD', 'PUNTO_MUESTREO',\n",
            "       'ANO', 'MES', 'D01', 'V01', 'D02', 'V02', 'D03', 'V03', 'D04', 'V04',\n",
            "       'D05', 'V05', 'D06', 'V06', 'D07', 'V07', 'D08', 'V08', 'D09', 'V09',\n",
            "       'D10', 'V10', 'D11', 'V11', 'D12', 'V12', 'D13', 'V13', 'D14', 'V14',\n",
            "       'D15', 'V15', 'D16', 'V16', 'D17', 'V17', 'D18', 'V18', 'D19', 'V19',\n",
            "       'D20', 'V20', 'D21', 'V21', 'D22', 'V22', 'D23', 'V23', 'D24', 'V24',\n",
            "       'D25', 'V25', 'D26', 'V26', 'D27', 'V27', 'D28', 'V28', 'D29', 'V29',\n",
            "       'D30', 'V30', 'D31', 'V31'],\n",
            "      dtype='object')\n",
            "Index(['ESTACION', 'MAGNITUD', 'ANO', 'MES', 'DIA', 'VALOR_CONTAMINANTE',\n",
            "       'DIA_NUM', 'FECHA'],\n",
            "      dtype='object')\n"
          ]
        }
      ]
    },
    {
      "cell_type": "markdown",
      "source": [
        "PROVINCIA"
      ],
      "metadata": {
        "id": "N_wvvrhW8QHI"
      }
    },
    {
      "cell_type": "code",
      "source": [
        "# Selecciona solo las columnas necesarias de emisiones\n",
        "emisionesP = emisiones[['ESTACION', 'PROVINCIA']]\n",
        "\n",
        "# Asegúrate de que no hay filas duplicadas en 'emisiones'\n",
        "emisionesP = emisionesP.drop_duplicates()\n",
        "\n",
        "# Ahora realiza el merge\n",
        "emisiones_reestructurado = pd.merge(\n",
        "    emisiones_reestructurado,\n",
        "    emisionesP,\n",
        "    on='ESTACION',\n",
        "    how='left'\n",
        ")\n",
        "\n",
        "# Verifica el resultado\n",
        "print(emisiones_reestructurado.head())"
      ],
      "metadata": {
        "colab": {
          "base_uri": "https://localhost:8080/"
        },
        "id": "hVMNcnn04Um0",
        "outputId": "74014fc6-1401-4d7d-be58-e1657f1ec66c"
      },
      "execution_count": 14,
      "outputs": [
        {
          "output_type": "stream",
          "name": "stdout",
          "text": [
            "   ESTACION  MAGNITUD   ANO  MES  DIA  VALOR_CONTAMINANTE  DIA_NUM      FECHA  \\\n",
            "0         4         1  2016    1  D01                 8.0        1 2016-01-01   \n",
            "1         4         6  2016    1  D01                 0.4        1 2016-01-01   \n",
            "2         4         7  2016    1  D01                28.0        1 2016-01-01   \n",
            "3         4         8  2016    1  D01                40.0        1 2016-01-01   \n",
            "4         4        12  2016    1  D01                83.0        1 2016-01-01   \n",
            "\n",
            "   PROVINCIA_x  PROVINCIA_y  PROVINCIA  \n",
            "0           28           28         28  \n",
            "1           28           28         28  \n",
            "2           28           28         28  \n",
            "3           28           28         28  \n",
            "4           28           28         28  \n"
          ]
        }
      ]
    },
    {
      "cell_type": "code",
      "source": [
        "# Agrupar por contaminante y distrito, y calcular estadísticas descriptivas\n",
        "resumen_contaminantes_distritosP = (\n",
        "    emisiones_reestructurado.groupby(['PROVINCIA', 'MAGNITUD'])['VALOR_CONTAMINANTE']\n",
        "    .describe()\n",
        ")\n",
        "\n",
        "# Mostrar el resumen\n",
        "print(resumen_contaminantes_distritosP)"
      ],
      "metadata": {
        "colab": {
          "base_uri": "https://localhost:8080/"
        },
        "id": "ZetFSdkG71iv",
        "outputId": "9d3e099f-4cf5-4fc1-9d88-48e7b702a36b"
      },
      "execution_count": 17,
      "outputs": [
        {
          "output_type": "stream",
          "name": "stdout",
          "text": [
            "                      count       mean         std   min    25%    50%    75%  \\\n",
            "PROVINCIA MAGNITUD                                                              \n",
            "28        1         14610.0   7.428953    7.012504  0.00   4.00   7.00  10.00   \n",
            "          6         14610.0   0.350233    0.215935  0.00   0.20   0.30   0.40   \n",
            "          7         35064.0  20.446412  135.123509  0.00   4.00   9.00  23.00   \n",
            "          8         35064.0  37.677618   20.118050  0.00  22.00  35.00  50.00   \n",
            "          9          8948.0  10.087729   10.643591  0.00   6.00   9.00  13.00   \n",
            "          10        17897.0  18.772923   35.723619  0.00  10.00  16.00  24.00   \n",
            "          12        35064.0  67.959417   61.443940  0.00  29.00  48.00  84.00   \n",
            "          14        20454.0  49.941772   24.753120  0.00  31.00  52.00  69.00   \n",
            "          20         8766.0   2.364944    4.236706  0.00   0.80   1.60   2.80   \n",
            "          30         8766.0   0.531371    0.538180  0.00   0.20   0.40   0.70   \n",
            "          35         8766.0   0.479751    1.183618  0.00   0.10   0.20   0.50   \n",
            "          42         4383.0   1.400897    0.251836 -0.01   1.25   1.38   1.54   \n",
            "          43         4383.0   1.292923    0.230898 -0.14   1.17   1.28   1.43   \n",
            "          44         4383.0   0.108941    0.068776  0.00   0.06   0.10   0.14   \n",
            "\n",
            "                         max  \n",
            "PROVINCIA MAGNITUD            \n",
            "28        1           610.00  \n",
            "          6            14.90  \n",
            "          7         24742.00  \n",
            "          8           148.00  \n",
            "          9           850.00  \n",
            "          10         4481.00  \n",
            "          12         1005.00  \n",
            "          14          336.00  \n",
            "          20          195.00  \n",
            "          30           15.10  \n",
            "          35           35.70  \n",
            "          42            3.09  \n",
            "          43            2.77  \n",
            "          44            1.31  \n"
          ]
        }
      ]
    },
    {
      "cell_type": "markdown",
      "source": [
        "MUNICIPIO"
      ],
      "metadata": {
        "id": "R-Iw01E28VqR"
      }
    },
    {
      "cell_type": "code",
      "source": [
        "# Selecciona solo las columnas necesarias de emisiones\n",
        "emisionesM = emisiones[['ESTACION', 'MUNICIPIO']]\n",
        "\n",
        "# Asegúrate de que no hay filas duplicadas en 'emisiones'\n",
        "emisionesM = emisionesM.drop_duplicates()\n",
        "\n",
        "# Ahora realiza el merge\n",
        "emisiones_reestructurado = pd.merge(\n",
        "    emisiones_reestructurado,\n",
        "    emisionesM,\n",
        "    on='ESTACION',\n",
        "    how='left'\n",
        ")\n",
        "\n",
        "# Agrupar por contaminante y distrito, y calcular estadísticas descriptivas\n",
        "resumen_contaminantes_distritosM = (\n",
        "    emisiones_reestructurado.groupby(['MUNICIPIO', 'MAGNITUD'])['VALOR_CONTAMINANTE']\n",
        "    .describe()\n",
        ")\n",
        "\n",
        "# Mostrar el resumen\n",
        "print(resumen_contaminantes_distritosM)"
      ],
      "metadata": {
        "colab": {
          "base_uri": "https://localhost:8080/"
        },
        "id": "f9k3HCbE8Znq",
        "outputId": "36cfdab9-14b1-45e8-d15e-b49d1cfb272c"
      },
      "execution_count": 18,
      "outputs": [
        {
          "output_type": "stream",
          "name": "stdout",
          "text": [
            "                      count       mean         std   min    25%    50%    75%  \\\n",
            "MUNICIPIO MAGNITUD                                                              \n",
            "79        1         14610.0   7.428953    7.012504  0.00   4.00   7.00  10.00   \n",
            "          6         14610.0   0.350233    0.215935  0.00   0.20   0.30   0.40   \n",
            "          7         35064.0  20.446412  135.123509  0.00   4.00   9.00  23.00   \n",
            "          8         35064.0  37.677618   20.118050  0.00  22.00  35.00  50.00   \n",
            "          9          8948.0  10.087729   10.643591  0.00   6.00   9.00  13.00   \n",
            "          10        17897.0  18.772923   35.723619  0.00  10.00  16.00  24.00   \n",
            "          12        35064.0  67.959417   61.443940  0.00  29.00  48.00  84.00   \n",
            "          14        20454.0  49.941772   24.753120  0.00  31.00  52.00  69.00   \n",
            "          20         8766.0   2.364944    4.236706  0.00   0.80   1.60   2.80   \n",
            "          30         8766.0   0.531371    0.538180  0.00   0.20   0.40   0.70   \n",
            "          35         8766.0   0.479751    1.183618  0.00   0.10   0.20   0.50   \n",
            "          42         4383.0   1.400897    0.251836 -0.01   1.25   1.38   1.54   \n",
            "          43         4383.0   1.292923    0.230898 -0.14   1.17   1.28   1.43   \n",
            "          44         4383.0   0.108941    0.068776  0.00   0.06   0.10   0.14   \n",
            "\n",
            "                         max  \n",
            "MUNICIPIO MAGNITUD            \n",
            "79        1           610.00  \n",
            "          6            14.90  \n",
            "          7         24742.00  \n",
            "          8           148.00  \n",
            "          9           850.00  \n",
            "          10         4481.00  \n",
            "          12         1005.00  \n",
            "          14          336.00  \n",
            "          20          195.00  \n",
            "          30           15.10  \n",
            "          35           35.70  \n",
            "          42            3.09  \n",
            "          43            2.77  \n",
            "          44            1.31  \n"
          ]
        }
      ]
    },
    {
      "cell_type": "markdown",
      "source": [
        "***10. Crear una función que reciba una estación y un contaminante y devuelva un resumen descriptivo de las emisiones del contaminante indicado en la estación indicada.***"
      ],
      "metadata": {
        "id": "-ptUdF4Wd-Kb"
      }
    },
    {
      "cell_type": "code",
      "source": [
        "def resumen_emisiones(estacion, contaminante):\n",
        "\n",
        "    try:\n",
        "        # Convertir los valores a enteros\n",
        "        estacion = int(estacion)\n",
        "        contaminante = int(contaminante)\n",
        "    except ValueError:\n",
        "        return \"La estación y el contaminante deben ser números enteros.\"\n",
        "\n",
        "    # Filtrar el DataFrame por la estación y el contaminante\n",
        "    emisiones_filtradas = emisiones_reestructurado[\n",
        "        (emisiones_reestructurado['ESTACION'] == estacion) &\n",
        "        (emisiones_reestructurado['MAGNITUD'] == contaminante)\n",
        "    ]\n",
        "\n",
        "    # Mostrar datos filtrados para depuración\n",
        "    print(\"\\nDatos Filtrados:\\n\")\n",
        "    print(emisiones_filtradas.head())\n",
        "\n",
        "    # Comprobar si hay datos filtrados\n",
        "    if emisiones_filtradas.empty:\n",
        "        return f\"No hay datos para la estación '{estacion}' y el contaminante '{contaminante}'.\"\n",
        "\n",
        "    # Obtener resumen descriptivo\n",
        "    resumen = emisiones_filtradas['VALOR_CONTAMINANTE'].describe()\n",
        "    return resumen\n",
        "\n",
        "def obtener_datos_usuario():\n",
        "    print(\"Estaciones disponibles:\")\n",
        "    print(emisiones_reestructurado['ESTACION'].unique())\n",
        "\n",
        "    print(\"\\nContaminantes disponibles:\")\n",
        "    print(emisiones_reestructurado['MAGNITUD'].unique())\n",
        "\n",
        "    estacion = input(\"\\nIngrese el nombre de la estación: \")\n",
        "    contaminante = input(\"Ingrese el tipo de contaminante: \")\n",
        "\n",
        "    resumen = resumen_emisiones(estacion, contaminante)\n",
        "    print(\"\\nResumen Descriptivo de las Emisiones:\\n\")\n",
        "    print(resumen)\n",
        "\n",
        "# Llamar a la función para obtener los datos del usuario\n",
        "obtener_datos_usuario()\n"
      ],
      "metadata": {
        "colab": {
          "base_uri": "https://localhost:8080/"
        },
        "id": "oXjjHujdAsUg",
        "outputId": "8f44e9fe-4ee7-446b-cc0e-c04820d0b26d"
      },
      "execution_count": 38,
      "outputs": [
        {
          "output_type": "stream",
          "name": "stdout",
          "text": [
            "Estaciones disponibles:\n",
            "[ 4  8 11 16 17 18 24 27 35 36 38 39 40 47 48 49 50 54 55 56 57 58 59 60]\n",
            "\n",
            "Contaminantes disponibles:\n",
            "[ 1  6  7  8 12  9 10 14 20 30 35 42 43 44]\n",
            "\n",
            "Ingrese el nombre de la estación: 48\n",
            "Ingrese el tipo de contaminante: 10\n",
            "\n",
            "Datos Filtrados:\n",
            "\n",
            "        ESTACION  MAGNITUD   ANO  MES  DIA  VALOR_CONTAMINANTE  DIA_NUM  \\\n",
            "144459        48        10  2016    1  D01                16.0        1   \n",
            "144464        48        10  2016    1  D02                10.0        2   \n",
            "144469        48        10  2016    1  D03                10.0        3   \n",
            "144474        48        10  2016    1  D04                 5.0        4   \n",
            "144479        48        10  2016    1  D05                 4.0        5   \n",
            "\n",
            "            FECHA  PROVINCIA_x  PROVINCIA_y  PROVINCIA  MUNICIPIO  \n",
            "144459 2016-01-01           28           28         28         79  \n",
            "144464 2016-01-02           28           28         28         79  \n",
            "144469 2016-01-03           28           28         28         79  \n",
            "144474 2016-01-04           28           28         28         79  \n",
            "144479 2016-01-05           28           28         28         79  \n",
            "\n",
            "Resumen Descriptivo de las Emisiones:\n",
            "\n",
            "count    1461.000000\n",
            "mean       16.809035\n",
            "std        11.716974\n",
            "min         0.000000\n",
            "25%         9.000000\n",
            "50%        15.000000\n",
            "75%        22.000000\n",
            "max       241.000000\n",
            "Name: VALOR_CONTAMINANTE, dtype: float64\n"
          ]
        }
      ]
    },
    {
      "cell_type": "markdown",
      "source": [
        "***11. Crear una función que devuelva las emisiones medias mensuales de un contaminante y un año dados para todas las estaciones.***"
      ],
      "metadata": {
        "id": "FOTHUzp8eCSC"
      }
    },
    {
      "cell_type": "code",
      "source": [
        "def emisiones_mensuales_media(contaminante, ano):\n",
        "    # Convertir año a entero\n",
        "    try:\n",
        "        ano = int(ano)\n",
        "        contaminante = int(contaminante)\n",
        "    except ValueError:\n",
        "        return \"El contaminante y el año deben ser números enteros.\"\n",
        "\n",
        "    # Filtrar el DataFrame por contaminante y año\n",
        "    emisiones_filtradas = emisiones_reestructurado[\n",
        "        (emisiones_reestructurado['MAGNITUD'] == contaminante) &\n",
        "        (emisiones_reestructurado['ANO'] == ano)\n",
        "    ]\n",
        "\n",
        "    # Comprobar si hay datos filtrados\n",
        "    if emisiones_filtradas.empty:\n",
        "        return f\"No hay datos para el contaminante '{contaminante}' en el año '{ano}'.\"\n",
        "\n",
        "    # Extraer el mes .loc\n",
        "    emisiones_filtradas.loc[:, 'MES'] = emisiones_filtradas['FECHA'].dt.month\n",
        "\n",
        "    # Calcular la media mensual\n",
        "    resumen_mensual = emisiones_filtradas.groupby('MES')['VALOR_CONTAMINANTE'].mean().reset_index()\n",
        "\n",
        "    # Renombrar la columna para claridad\n",
        "    resumen_mensual.rename(columns={'VALOR_CONTAMINANTE': 'MEDIA_MENSUAL'}, inplace=True)\n",
        "\n",
        "    return resumen_mensual\n",
        "\n",
        "def obtener_datos_usuario_mensual():\n",
        "    contaminante = input(\"Ingrese el tipo de contaminante: \")\n",
        "    ano = input(\"Ingrese el año: \")\n",
        "\n",
        "    resumen_mensual = emisiones_mensuales_media(contaminante, ano)\n",
        "    print(\"\\nEmisiones Medias Mensuales:\")\n",
        "    print(resumen_mensual)\n",
        "\n",
        "# Llamar a la función para obtener los datos del usuario\n",
        "obtener_datos_usuario_mensual()\n"
      ],
      "metadata": {
        "colab": {
          "base_uri": "https://localhost:8080/"
        },
        "id": "ayC_RB69C-GF",
        "outputId": "a3e2b788-6564-493c-c562-899624fdfa34"
      },
      "execution_count": 40,
      "outputs": [
        {
          "output_type": "stream",
          "name": "stdout",
          "text": [
            "Ingrese el tipo de contaminante: 35\n",
            "Ingrese el año: 2019\n",
            "\n",
            "Emisiones Medias Mensuales:\n",
            "    MES  MEDIA_MENSUAL\n",
            "0     1       0.470968\n",
            "1     2       0.405952\n",
            "2     3       0.252151\n",
            "3     4       0.199444\n",
            "4     5       0.205914\n",
            "5     6       0.250556\n",
            "6     7       0.324731\n",
            "7     8       2.474194\n",
            "8     9       1.711667\n",
            "9    10       1.219355\n",
            "10   11       0.724444\n",
            "11   12       0.771505\n"
          ]
        }
      ]
    },
    {
      "cell_type": "markdown",
      "source": [
        "***12. Crear una función que reciba una estación de medición y devuelva un DataFrame con las medias mensuales de los distintos tipos de contaminantes.***"
      ],
      "metadata": {
        "id": "YTE95hOheF0z"
      }
    },
    {
      "cell_type": "code",
      "source": [
        "def medias_mensuales_por_estacion(estacion):\n",
        "    # Convertir la estación a entero\n",
        "    try:\n",
        "        estacion = int(estacion)\n",
        "    except ValueError:\n",
        "        return \"La estación debe ser un número entero.\"\n",
        "\n",
        "    # Filtrar el DataFrame por la estación\n",
        "    emisiones_filtradas = emisiones_reestructurado[emisiones_reestructurado['ESTACION'] == estacion]\n",
        "\n",
        "    # Comprobar si hay datos filtrados\n",
        "    if emisiones_filtradas.empty:\n",
        "        return f\"No hay datos para la estación '{estacion}'.\"\n",
        "\n",
        "    # Extraer el mes\n",
        "    emisiones_filtradas['MES'] = emisiones_filtradas['FECHA'].dt.month\n",
        "\n",
        "    # Calcular la media mensual para cada contaminante\n",
        "    resumen_mensual = (emisiones_filtradas\n",
        "                       .groupby(['MAGNITUD', 'MES'])['VALOR_CONTAMINANTE']\n",
        "                       .mean()\n",
        "                       .reset_index())\n",
        "\n",
        "    # Renombrar las columnas para mayor claridad\n",
        "    resumen_mensual.rename(columns={'VALOR_CONTAMINANTE': 'MEDIA_MENSUAL'}, inplace=True)\n",
        "\n",
        "    return resumen_mensual\n",
        "\n",
        "def obtener_datos_usuario_estacion():\n",
        "    print(\"Estaciones disponibles:\")\n",
        "    print(emisiones_reestructurado['ESTACION'].unique())\n",
        "    estacion = input(\"\\nIngrese una estación de medición: \")\n",
        "\n",
        "    # Obtener el resumen mensual\n",
        "    resumen_mensual = medias_mensuales_por_estacion(estacion)\n",
        "\n",
        "    # Mostrar el resumen mensual\n",
        "    print(\"\\nMedias Mensuales de los Contaminantes:\")\n",
        "    print(resumen_mensual)\n",
        "\n",
        "# Llamar a la función para obtener los datos del usuario\n",
        "obtener_datos_usuario_estacion()\n"
      ],
      "metadata": {
        "colab": {
          "base_uri": "https://localhost:8080/"
        },
        "id": "FlX1FUFQeMw7",
        "outputId": "a4c1ecf3-6b3e-4aa0-ff90-a4c71424bee2"
      },
      "execution_count": 45,
      "outputs": [
        {
          "output_type": "stream",
          "name": "stdout",
          "text": [
            "Estaciones disponibles:\n",
            "[ 4  8 11 16 17 18 24 27 35 36 38 39 40 47 48 49 50 54 55 56 57 58 59 60]\n",
            "\n",
            "Ingrese una estación de medición: 54\n",
            "\n",
            "Medias Mensuales de los Contaminantes:\n",
            "    MAGNITUD  MES  MEDIA_MENSUAL\n",
            "0          7    1      43.846774\n",
            "1          7    2     246.345133\n",
            "2          7    3      14.322581\n",
            "3          7    4       8.083333\n",
            "4          7    5       6.395161\n",
            "5          7    6       5.875000\n",
            "6          7    7       5.677419\n",
            "7          7    8       5.766129\n",
            "8          7    9      12.875000\n",
            "9          7   10      25.814516\n",
            "10         7   11      34.675000\n",
            "11         7   12      54.056452\n",
            "12         8    1      49.346774\n",
            "13         8    2      43.203540\n",
            "14         8    3      34.620968\n",
            "15         8    4      29.391667\n",
            "16         8    5      27.935484\n",
            "17         8    6      26.058333\n",
            "18         8    7      27.024194\n",
            "19         8    8      26.887097\n",
            "20         8    9      38.266667\n",
            "21         8   10      47.024194\n",
            "22         8   11      47.391667\n",
            "23         8   12      53.072581\n",
            "24        12    1     116.516129\n",
            "25        12    2      85.274336\n",
            "26        12    3      56.612903\n",
            "27        12    4      41.825000\n",
            "28        12    5      37.830645\n",
            "29        12    6      35.150000\n",
            "30        12    7      35.750000\n",
            "31        12    8      35.750000\n",
            "32        12    9      57.958333\n",
            "33        12   10      86.604839\n",
            "34        12   11     100.591667\n",
            "35        12   12     135.967742\n",
            "36        14    1      26.427419\n",
            "37        14    2      37.176991\n",
            "38        14    3      54.008065\n",
            "39        14    4      60.066667\n",
            "40        14    5      62.774194\n",
            "41        14    6      73.566667\n",
            "42        14    7      77.951613\n",
            "43        14    8      72.088710\n",
            "44        14    9      56.816667\n",
            "45        14   10      36.935484\n",
            "46        14   11      31.166667\n",
            "47        14   12      21.580645\n"
          ]
        },
        {
          "output_type": "stream",
          "name": "stderr",
          "text": [
            "<ipython-input-45-be1fd1a8ba65>:16: SettingWithCopyWarning: \n",
            "A value is trying to be set on a copy of a slice from a DataFrame.\n",
            "Try using .loc[row_indexer,col_indexer] = value instead\n",
            "\n",
            "See the caveats in the documentation: https://pandas.pydata.org/pandas-docs/stable/user_guide/indexing.html#returning-a-view-versus-a-copy\n",
            "  emisiones_filtradas['MES'] = emisiones_filtradas['FECHA'].dt.month\n"
          ]
        }
      ]
    }
  ]
}