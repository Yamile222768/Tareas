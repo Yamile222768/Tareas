{
  "nbformat": 4,
  "nbformat_minor": 0,
  "metadata": {
    "colab": {
      "provenance": [],
      "authorship_tag": "ABX9TyNs21VwrTZsYpesMq4OPrZ1",
      "include_colab_link": true
    },
    "kernelspec": {
      "name": "python3",
      "display_name": "Python 3"
    },
    "language_info": {
      "name": "python"
    }
  },
  "cells": [
    {
      "cell_type": "markdown",
      "metadata": {
        "id": "view-in-github",
        "colab_type": "text"
      },
      "source": [
        "<a href=\"https://colab.research.google.com/github/Yamile222768/Tareas/blob/main/Tarea_6_CD_Yamile_M%C3%A1rquez.ipynb\" target=\"_parent\"><img src=\"https://colab.research.google.com/assets/colab-badge.svg\" alt=\"Open In Colab\"/></a>"
      ]
    },
    {
      "cell_type": "markdown",
      "source": [
        "# **Tarea 06- Python: estructuras de datos con Pandas y manejo de archivos.**\n",
        "En una empresa de comercio electrónico  existe un archivo CSV llamado \"datos_ventas.csv\" que contiene datos de ventas de diferentes productos. El objetivo es realizar análisis básicos de los datos utilizando la biblioteca Pandas"
      ],
      "metadata": {
        "id": "ATVXIPkMWnre"
      }
    },
    {
      "cell_type": "code",
      "source": [
        "#Libreria\n",
        "import pandas as pd\n",
        "\n",
        "# a) Cargar los datos desde el archivo CSV y almacenarlos en un DataFrame llamado 'ventas'\n",
        "ventas = pd.read_csv('/content/datos_ventas.csv')\n",
        "\n",
        "# b) Mostrar las primeras 5 filas del DataFrame para revisar la estructura y los tipos de datos de las columnas\n",
        "print(\"Primeras 5 filas del DataFrame:\")\n",
        "print(ventas.head())"
      ],
      "metadata": {
        "colab": {
          "base_uri": "https://localhost:8080/",
          "height": 0
        },
        "id": "1ph2WEOQcIx4",
        "outputId": "cab99ab8-9f7d-414d-cbfd-6ffcdb246ab3"
      },
      "execution_count": 1,
      "outputs": [
        {
          "output_type": "stream",
          "name": "stdout",
          "text": [
            "Primeras 5 filas del DataFrame:\n",
            "     Producto    Categoria       Fecha  Cantidad  Precio\n",
            "0  Producto B  Categoria 1  2023-02-05        16   37.00\n",
            "1  Producto A  Categoria 2  2022-08-24         5   30.24\n",
            "2  Producto A  Categoria 2  2023-05-07         3   23.29\n",
            "3  Producto C  Categoria 1  2023-01-07        13   28.30\n",
            "4  Producto A  Categoria 1  2023-05-31        10   34.89\n"
          ]
        }
      ]
    },
    {
      "cell_type": "code",
      "source": [
        "# c) Calcular el total de ventas realizadas en cada categoría de productos\n",
        "# Primero calculamos la venta total multiplicando 'Cantidad' por 'Precio'\n",
        "ventas['Venta_Total'] = ventas['Cantidad'] * ventas['Precio']\n",
        "\n",
        "# Luego calculamos el total de ventas por categoría\n",
        "# Agrupa el DataFrame por 'Categoria' y suma la 'Venta_Total' para cada categoría\n",
        "ventas_por_categoria = ventas.groupby('Categoria')['Venta_Total'].sum()\n",
        "\n",
        "print(\"Total de ventas por categoría:\\n\", ventas_por_categoria)"
      ],
      "metadata": {
        "colab": {
          "base_uri": "https://localhost:8080/",
          "height": 0
        },
        "id": "Z3BZAcdtceGz",
        "outputId": "43724862-26ca-4ba5-8a60-2551986560e5"
      },
      "execution_count": 3,
      "outputs": [
        {
          "output_type": "stream",
          "name": "stdout",
          "text": [
            "Total de ventas por categoría:\n",
            " Categoria\n",
            "Categoria 1    13285.13\n",
            "Categoria 2    14480.78\n",
            "Name: Venta_Total, dtype: float64\n"
          ]
        }
      ]
    },
    {
      "cell_type": "code",
      "source": [
        "# d) Calcular la cantidad promedio de productos vendidos por transacción\n",
        "# Calcula la media de la columna 'Cantidad' para obtener el promedio de productos vendidos\n",
        "promedio_productos_vendidos = ventas['Cantidad'].mean()\n",
        "\n",
        "print(\"Cantidad promedio de productos vendidos por transacción: \", promedio_productos_vendidos)"
      ],
      "metadata": {
        "colab": {
          "base_uri": "https://localhost:8080/",
          "height": 0
        },
        "id": "JNml_Ggdc8ew",
        "outputId": "34be1199-a4eb-4a37-98e9-67ec7b981d22"
      },
      "execution_count": 11,
      "outputs": [
        {
          "output_type": "stream",
          "name": "stdout",
          "text": [
            "Cantidad promedio de productos vendidos por transacción:  9.57\n"
          ]
        }
      ]
    },
    {
      "cell_type": "code",
      "source": [
        "# e)Encontrar el producto más vendido y mostrar su nombre y la cantidad total vendida\n",
        "# Agrupa el DataFrame por 'Producto', suma la 'Cantidad' para cada producto y encuentra el índice (nombre del producto) con la suma máxima\n",
        "producto_mas_vendido = ventas.groupby('Producto')['Cantidad'].sum().idxmax()\n",
        "\n",
        "# Agrupa el DataFrame por 'Producto', suma la 'Cantidad' para cada producto y encuentra el valor máximo (cantidad total vendida)\n",
        "cantidad_vendida_producto_mas_vendido = ventas.groupby('Producto')['Cantidad'].sum().max()\n",
        "print(f\"Producto más vendido: {producto_mas_vendido}, Cantidad total vendida: {cantidad_vendida_producto_mas_vendido}\")"
      ],
      "metadata": {
        "colab": {
          "base_uri": "https://localhost:8080/",
          "height": 0
        },
        "id": "iWM5_AM_dGY6",
        "outputId": "c8314cfe-b00e-494c-92b5-6b21dc27a77c"
      },
      "execution_count": 9,
      "outputs": [
        {
          "output_type": "stream",
          "name": "stdout",
          "text": [
            "Producto más vendido: Producto B, Cantidad total vendida: 371\n"
          ]
        }
      ]
    },
    {
      "cell_type": "code",
      "source": [
        "# f)  Calcular el promedio de precios de venta para cada producto\n",
        "promedio_precio_por_producto = ventas.groupby('Producto')['Precio'].mean()\n",
        "print(\"Promedio de precios de venta por producto:\\n\", promedio_precio_por_producto )"
      ],
      "metadata": {
        "colab": {
          "base_uri": "https://localhost:8080/",
          "height": 0
        },
        "id": "RPiAQzuNdWKj",
        "outputId": "bf67e6e3-ffc9-47ff-9595-f5a0737e49aa"
      },
      "execution_count": 8,
      "outputs": [
        {
          "output_type": "stream",
          "name": "stdout",
          "text": [
            "Promedio de precios de venta por producto:\n",
            " Producto\n",
            "Producto A    27.840000\n",
            "Producto B    29.250857\n",
            "Producto C    29.892963\n",
            "Name: Precio, dtype: float64\n"
          ]
        }
      ]
    }
  ]
}