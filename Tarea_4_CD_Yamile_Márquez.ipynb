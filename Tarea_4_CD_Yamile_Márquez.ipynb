{
  "nbformat": 4,
  "nbformat_minor": 0,
  "metadata": {
    "colab": {
      "provenance": [],
      "authorship_tag": "ABX9TyPxuR7Y9IAaat1za9+eY9U+",
      "include_colab_link": true
    },
    "kernelspec": {
      "name": "python3",
      "display_name": "Python 3"
    },
    "language_info": {
      "name": "python"
    }
  },
  "cells": [
    {
      "cell_type": "markdown",
      "metadata": {
        "id": "view-in-github",
        "colab_type": "text"
      },
      "source": [
        "<a href=\"https://colab.research.google.com/github/Yamile222768/Tareas/blob/main/Tarea_4_CD_Yamile_M%C3%A1rquez.ipynb\" target=\"_parent\"><img src=\"https://colab.research.google.com/assets/colab-badge.svg\" alt=\"Open In Colab\"/></a>"
      ]
    },
    {
      "cell_type": "markdown",
      "source": [
        "# **Tarea 04: Python: estructuras de datos y manejo de archivos**"
      ],
      "metadata": {
        "id": "wgBH_3S1JP_y"
      }
    },
    {
      "cell_type": "markdown",
      "source": [
        "*Para una tienda se crea un programa para tener un seguimiento de los productos. Dicho programa permite: agregar nuevos productos, buscar productos existentes, actualizar la cantidad de un producto y eliminar productos.*"
      ],
      "metadata": {
        "id": "TfcYOilVJh1m"
      }
    },
    {
      "cell_type": "code",
      "source": [
        "# Diccionario para almacenar el inventario\n",
        "inventario = {}\n",
        "\n",
        "# Función principal que muestra el menú e interactúa con el usuario\n",
        "def menu():\n",
        "    while True:\n",
        "        print(\"\\n   MENÚ DE INVENTARIO   \\n\")\n",
        "        print(\"1. Agregar producto\")\n",
        "        print(\"2. Buscar producto\")\n",
        "        print(\"3. Actualizar cantidad\")\n",
        "        print(\"4. Eliminar producto\")\n",
        "        print(\"5. Ver inventario\")\n",
        "        print(\"6. Salir\")\n",
        "\n",
        "        opcion = input(\"\\nSelecciona una opción: \")\n",
        "        if opcion == '1':\n",
        "            nombre = input(\"\\nIntroduce el nombre del producto: \")\n",
        "            cantidad = int(input(\"Introduce la cantidad del producto: \"))\n",
        "            agregar_producto(nombre, cantidad)\n",
        "        elif opcion == '2':\n",
        "            nombre = input(\"\\nIntroduce el nombre del producto a buscar: \")\n",
        "            buscar_producto(nombre)\n",
        "        elif opcion == '3':\n",
        "            nombre = input(\"\\nIntroduce el nombre del producto: \")\n",
        "            cantidad = int(input(\"Introduce la nueva cantidad: \"))\n",
        "            actualizar_cantidad(nombre, cantidad)\n",
        "        elif opcion == '4':\n",
        "            nombre = input(\"\\nIntroduce el nombre del producto a ELIMINAR: \")\n",
        "            eliminar_producto(nombre)\n",
        "        elif opcion == '5':\n",
        "            ver_inventario()\n",
        "        elif opcion == '6':\n",
        "            print(\"\\nSaliendo del programa. Hasta pronto:)\")\n",
        "            break\n",
        "        else:\n",
        "            print(\"Opción no válida. Inténtalo de nuevo.\")\n",
        "\n",
        "# Función para agregar o actualizar producto en el inventario\n",
        "def agregar_producto(nombre, cantidad):\n",
        "\n",
        "    if nombre in inventario: #verifica si el producto ya existe\n",
        "        inventario[nombre] += cantidad #si existe, actualiza la cantidad\n",
        "        print(f\"Producto actualizado. Nueva cantidad de {nombre}: {inventario[nombre]}\")\n",
        "    else: #si el producto no existe\n",
        "        inventario[nombre] = cantidad #agrega el producto al inventario\n",
        "        print(f\"Producto agregado. {nombre}: {inventario[nombre]} unidades\")\n",
        "\n",
        "# Función para buscar un producto en el inventario\n",
        "def buscar_producto(nombre):\n",
        "\n",
        "    if nombre in inventario: #si el producto existe\n",
        "        print(f\"Producto encontrado. {nombre}: {inventario[nombre]} unidades\")\n",
        "    else: #si el producto no existe\n",
        "        print(\"Producto no encontrado.\")\n",
        "\n",
        "# Función para actualizar la cantidad de un producto\n",
        "def actualizar_cantidad(nombre, cantidad):\n",
        "\n",
        "    if nombre in inventario:\n",
        "        inventario[nombre] = cantidad\n",
        "        print(f\"Cantidad de {nombre} actualizada a {cantidad} unidades.\")\n",
        "    else:\n",
        "        print(\"Producto no encontrado. No se puede actualizar la cantidad.\")\n",
        "\n",
        "# Función para eliminar un producto del inventario\n",
        "def eliminar_producto(nombre):\n",
        "    if nombre in inventario:\n",
        "        del inventario[nombre] #elimina el producto del inventario con del podemos eliminar elementos de una lista\n",
        "        print(f\"{nombre} eliminado del inventario.\")\n",
        "    else:\n",
        "        print(\"Producto no encontrado. No se puede eliminar.\")\n",
        "\n",
        "# Función para ver todos los productos en el inventario\n",
        "def ver_inventario():\n",
        "    if inventario:\n",
        "        print(\"\\n--- Inventario actual ---\\n\")\n",
        "        for producto, cantidad in inventario.items():  # Itera sobre cada par clave-valor (producto-cantidad) en el diccionario 'inventario'.\n",
        "            print(f\"{producto}: {cantidad} unidades\")\n",
        "    else:\n",
        "        print(\"El inventario está vacío.\")\n",
        "\n",
        "\n",
        "# Ejecutar el menú principal\n",
        "menu()\n"
      ],
      "metadata": {
        "id": "8Ez3_AWH3JKJ"
      },
      "execution_count": null,
      "outputs": []
    }
  ]
}